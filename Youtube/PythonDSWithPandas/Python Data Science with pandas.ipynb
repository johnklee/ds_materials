{
 "cells": [
  {
   "cell_type": "markdown",
   "metadata": {},
   "source": [
    "## Python Data Science with pandas\n",
    "Source From <a href='https://www.youtube.com/watch?v=ikOEn8jY2Is&list=PLyQnbMWK6HUUgr9FmrkkuUl3ts7o7T7r4&index=58&t=0s'>Here</a>\n",
    "Data science is the fastest-growing segment of the Python community and Python is the de-facto language in data science. Well-known speaker and author Matt Harrison joins us to discuss pandas, the hot-topic Python library for data science, and how to use it in a sample application.\n",
    "\n",
    "Matt  provides a walkthrough through some of the features of pandas: data ingestion, cleaning, and adding columns. As a demo application to show Python and data science, Matt will analyze bitcoin price data, making a simple model to show whether the price of bitcoin would rise or fall.\n",
    "\n",
    "Contents\n",
    "* [03:34  Introduction to Jupyter](https://www.youtube.com/watch?v=ikOEn8jY2Is&list=PLyQnbMWK6HUUgr9FmrkkuUl3ts7o7T7r4&index=57&t=214s)\n",
    "* [06:43  pandas and matplotlib](https://www.youtube.com/watch?v=ikOEn8jY2Is&list=PLyQnbMWK6HUUgr9FmrkkuUl3ts7o7T7r4&index=57&t=403s)\n",
    "* [08:20  Read/view bitcoin csv data](https://www.youtube.com/watch?v=ikOEn8jY2Is&list=PLyQnbMWK6HUUgr9FmrkkuUl3ts7o7T7r4&index=57&t=500s)\n",
    "* [12:24  Setting index](https://www.youtube.com/watch?v=ikOEn8jY2Is&list=PLyQnbMWK6HUUgr9FmrkkuUl3ts7o7T7r4&index=57&t=744s)\n",
    "* [15:00  Aggregation](https://www.youtube.com/watch?v=ikOEn8jY2Is&list=PLyQnbMWK6HUUgr9FmrkkuUl3ts7o7T7r4&index=57&t=900s)\n",
    "* [17:10  Slicing](https://www.youtube.com/watch?v=ikOEn8jY2Is&list=PLyQnbMWK6HUUgr9FmrkkuUl3ts7o7T7r4&index=57&t=1030s)\n",
    "* [18:40  Computed columns with assign](https://www.youtube.com/watch?v=ikOEn8jY2Is&list=PLyQnbMWK6HUUgr9FmrkkuUl3ts7o7T7r4&index=57&t=1120s)\n",
    "* [21:30  Questions](https://www.youtube.com/watch?v=ikOEn8jY2Is&list=PLyQnbMWK6HUUgr9FmrkkuUl3ts7o7T7r4&index=57&t=1290s)\n",
    "* [33:10  Random forest](https://www.youtube.com/watch?v=ikOEn8jY2Is&list=PLyQnbMWK6HUUgr9FmrkkuUl3ts7o7T7r4&index=57&t=1990s)\n",
    "* [40:00  ROC Curve](https://www.youtube.com/watch?v=ikOEn8jY2Is&list=PLyQnbMWK6HUUgr9FmrkkuUl3ts7o7T7r4&index=57&t=2400s)\n",
    "* 42:55  PyCharm\n",
    "* [49:20  Questions](https://www.youtube.com/watch?v=ikOEn8jY2Is&list=PLyQnbMWK6HUUgr9FmrkkuUl3ts7o7T7r4&index=57&t=2960s)\n",
    "\n",
    "Matt will put some material in his GitHub account: https://github.com/mattharrison"
   ]
  },
  {
   "cell_type": "code",
   "execution_count": 1,
   "metadata": {},
   "outputs": [],
   "source": [
    "%matplotlib inline\n",
    "import matplotlib.pyplot as plt\n",
    "import pandas as pd\n",
    "from sklearn import ensemble, model_selection, preprocessing, tree\n",
    "from yellowbrick.classifier import ROCAUC\n",
    "from yellowbrick.classifier import ClassificationReport, ConfusionMatrix"
   ]
  },
  {
   "cell_type": "markdown",
   "metadata": {},
   "source": [
    "Data is from <b><a href='https://www.kaggle.com/mczielinski/bitcoin-historical-data/data#'>Kaggle Bitcoin Historical Data</a></b>. Please download the data from it and put the csv file `bitstampUSD_1-min_data_2012-01-01_to_2019-08-12.csv` into the same path of this notebook."
   ]
  },
  {
   "cell_type": "code",
   "execution_count": 2,
   "metadata": {},
   "outputs": [
    {
     "name": "stdout",
     "output_type": "stream",
     "text": [
      "Wall time: 2.43 s\n"
     ]
    }
   ],
   "source": [
    "%%time\n",
    "bit_df = pd.read_csv('bitstampUSD_1-min_data_2012-01-01_to_2019-08-12.csv')"
   ]
  },
  {
   "cell_type": "code",
   "execution_count": 41,
   "metadata": {},
   "outputs": [
    {
     "data": {
      "text/html": [
       "<div>\n",
       "<style scoped>\n",
       "    .dataframe tbody tr th:only-of-type {\n",
       "        vertical-align: middle;\n",
       "    }\n",
       "\n",
       "    .dataframe tbody tr th {\n",
       "        vertical-align: top;\n",
       "    }\n",
       "\n",
       "    .dataframe thead th {\n",
       "        text-align: right;\n",
       "    }\n",
       "</style>\n",
       "<table border=\"1\" class=\"dataframe\">\n",
       "  <thead>\n",
       "    <tr style=\"text-align: right;\">\n",
       "      <th></th>\n",
       "      <th>Timestamp</th>\n",
       "      <th>Open</th>\n",
       "      <th>High</th>\n",
       "      <th>Low</th>\n",
       "      <th>Close</th>\n",
       "      <th>Volume_(BTC)</th>\n",
       "      <th>Volume_(Currency)</th>\n",
       "      <th>Weighted_Price</th>\n",
       "      <th>date</th>\n",
       "      <th>wd</th>\n",
       "    </tr>\n",
       "  </thead>\n",
       "  <tbody>\n",
       "    <tr>\n",
       "      <th>3997692</th>\n",
       "      <td>1565567760</td>\n",
       "      <td>11555.57</td>\n",
       "      <td>11555.57</td>\n",
       "      <td>11540.37</td>\n",
       "      <td>11540.58</td>\n",
       "      <td>0.036868</td>\n",
       "      <td>425.909106</td>\n",
       "      <td>11552.336234</td>\n",
       "      <td>2019-08-11 23:56:00</td>\n",
       "      <td>6</td>\n",
       "    </tr>\n",
       "    <tr>\n",
       "      <th>3997693</th>\n",
       "      <td>1565567820</td>\n",
       "      <td>11553.49</td>\n",
       "      <td>11556.22</td>\n",
       "      <td>11553.49</td>\n",
       "      <td>11556.22</td>\n",
       "      <td>0.623462</td>\n",
       "      <td>7204.428272</td>\n",
       "      <td>11555.520505</td>\n",
       "      <td>2019-08-11 23:57:00</td>\n",
       "      <td>6</td>\n",
       "    </tr>\n",
       "    <tr>\n",
       "      <th>3997694</th>\n",
       "      <td>1565567880</td>\n",
       "      <td>11559.73</td>\n",
       "      <td>11561.22</td>\n",
       "      <td>11546.77</td>\n",
       "      <td>11561.22</td>\n",
       "      <td>0.159070</td>\n",
       "      <td>1838.731403</td>\n",
       "      <td>11559.252199</td>\n",
       "      <td>2019-08-11 23:58:00</td>\n",
       "      <td>6</td>\n",
       "    </tr>\n",
       "    <tr>\n",
       "      <th>3997695</th>\n",
       "      <td>1565567940</td>\n",
       "      <td>11559.73</td>\n",
       "      <td>11589.73</td>\n",
       "      <td>11528.73</td>\n",
       "      <td>11528.73</td>\n",
       "      <td>16.198210</td>\n",
       "      <td>187504.635170</td>\n",
       "      <td>11575.638889</td>\n",
       "      <td>2019-08-11 23:59:00</td>\n",
       "      <td>6</td>\n",
       "    </tr>\n",
       "    <tr>\n",
       "      <th>3997696</th>\n",
       "      <td>1565568000</td>\n",
       "      <td>11527.44</td>\n",
       "      <td>11551.57</td>\n",
       "      <td>11520.00</td>\n",
       "      <td>11520.00</td>\n",
       "      <td>23.805939</td>\n",
       "      <td>274731.256920</td>\n",
       "      <td>11540.450291</td>\n",
       "      <td>2019-08-12 00:00:00</td>\n",
       "      <td>0</td>\n",
       "    </tr>\n",
       "  </tbody>\n",
       "</table>\n",
       "</div>"
      ],
      "text/plain": [
       "          Timestamp      Open      High       Low     Close  Volume_(BTC)  \\\n",
       "3997692  1565567760  11555.57  11555.57  11540.37  11540.58      0.036868   \n",
       "3997693  1565567820  11553.49  11556.22  11553.49  11556.22      0.623462   \n",
       "3997694  1565567880  11559.73  11561.22  11546.77  11561.22      0.159070   \n",
       "3997695  1565567940  11559.73  11589.73  11528.73  11528.73     16.198210   \n",
       "3997696  1565568000  11527.44  11551.57  11520.00  11520.00     23.805939   \n",
       "\n",
       "         Volume_(Currency)  Weighted_Price                date  wd  \n",
       "3997692         425.909106    11552.336234 2019-08-11 23:56:00   6  \n",
       "3997693        7204.428272    11555.520505 2019-08-11 23:57:00   6  \n",
       "3997694        1838.731403    11559.252199 2019-08-11 23:58:00   6  \n",
       "3997695      187504.635170    11575.638889 2019-08-11 23:59:00   6  \n",
       "3997696      274731.256920    11540.450291 2019-08-12 00:00:00   0  "
      ]
     },
     "execution_count": 41,
     "metadata": {},
     "output_type": "execute_result"
    }
   ],
   "source": [
    "bit_df['date'] = pd.to_datetime(bit_df.Timestamp, unit='s')\n",
    "bit_df['wd'] = bit_df['date'].dt.dayofweek\n",
    "bit_df.tail()"
   ]
  },
  {
   "cell_type": "code",
   "execution_count": 42,
   "metadata": {},
   "outputs": [
    {
     "data": {
      "text/plain": [
       "Timestamp                     int64\n",
       "Open                        float64\n",
       "High                        float64\n",
       "Low                         float64\n",
       "Close                       float64\n",
       "Volume_(BTC)                float64\n",
       "Volume_(Currency)           float64\n",
       "Weighted_Price              float64\n",
       "date                 datetime64[ns]\n",
       "wd                            int64\n",
       "dtype: object"
      ]
     },
     "execution_count": 42,
     "metadata": {},
     "output_type": "execute_result"
    }
   ],
   "source": [
    "bit_df.dtypes"
   ]
  },
  {
   "cell_type": "code",
   "execution_count": 64,
   "metadata": {},
   "outputs": [
    {
     "name": "stdout",
     "output_type": "stream",
     "text": [
      "Wall time: 740 ms\n"
     ]
    }
   ],
   "source": [
    "%%time\n",
    "# Rename the column and reindex the data by column `date`. \n",
    "# Do aggregration\n",
    "mybit_df = bit_df.set_index('date').rename(columns={\n",
    "    'Open':'open', 'High': 'hi', 'Low': 'lo', 'Close': 'close', \n",
    "    'Volume_(BTC)': 'vol_btc', 'Volume_(Currency)': 'vol_cur',\n",
    "    'Weighted_Price': 'wp', 'Timestamp': 'ts', 'wd': 'wd'}).\\\n",
    "    resample('d').\\\n",
    "    agg({\n",
    "        'open':'first', 'hi': 'mean', 'lo': 'mean', 'close': 'last', \n",
    "        'vol_btc': 'sum', 'vol_cur': 'sum', 'wp': 'mean', 'ts': 'min', 'wd': 'first'}).\\\n",
    "    iloc[-1001:]\n",
    "\n",
    "# Add new column `buy`: If the close price from tomorrow is higher than today, buy=1 else buy = 0\n",
    "mybit_df = mybit_df.assign(buy = lambda x: (x.close.shift(-1) > x.close).astype(int))[:-1]\n",
    "mybit_df = mybit_df.astype({'wd': 'int32'})"
   ]
  },
  {
   "cell_type": "code",
   "execution_count": 65,
   "metadata": {},
   "outputs": [
    {
     "data": {
      "text/html": [
       "<div>\n",
       "<style scoped>\n",
       "    .dataframe tbody tr th:only-of-type {\n",
       "        vertical-align: middle;\n",
       "    }\n",
       "\n",
       "    .dataframe tbody tr th {\n",
       "        vertical-align: top;\n",
       "    }\n",
       "\n",
       "    .dataframe thead th {\n",
       "        text-align: right;\n",
       "    }\n",
       "</style>\n",
       "<table border=\"1\" class=\"dataframe\">\n",
       "  <thead>\n",
       "    <tr style=\"text-align: right;\">\n",
       "      <th></th>\n",
       "      <th>open</th>\n",
       "      <th>hi</th>\n",
       "      <th>lo</th>\n",
       "      <th>close</th>\n",
       "      <th>vol_btc</th>\n",
       "      <th>vol_cur</th>\n",
       "      <th>wp</th>\n",
       "      <th>ts</th>\n",
       "      <th>wd</th>\n",
       "      <th>buy</th>\n",
       "    </tr>\n",
       "    <tr>\n",
       "      <th>date</th>\n",
       "      <th></th>\n",
       "      <th></th>\n",
       "      <th></th>\n",
       "      <th></th>\n",
       "      <th></th>\n",
       "      <th></th>\n",
       "      <th></th>\n",
       "      <th></th>\n",
       "      <th></th>\n",
       "      <th></th>\n",
       "    </tr>\n",
       "  </thead>\n",
       "  <tbody>\n",
       "    <tr>\n",
       "      <th>2016-11-15</th>\n",
       "      <td>704.98</td>\n",
       "      <td>711.395740</td>\n",
       "      <td>711.050820</td>\n",
       "      <td>711.06</td>\n",
       "      <td>5668.939949</td>\n",
       "      <td>4.030616e+06</td>\n",
       "      <td>711.236943</td>\n",
       "      <td>1.479168e+09</td>\n",
       "      <td>1</td>\n",
       "      <td>1</td>\n",
       "    </tr>\n",
       "    <tr>\n",
       "      <th>2016-11-16</th>\n",
       "      <td>711.07</td>\n",
       "      <td>725.528455</td>\n",
       "      <td>725.092942</td>\n",
       "      <td>739.71</td>\n",
       "      <td>11585.045418</td>\n",
       "      <td>8.443846e+06</td>\n",
       "      <td>725.333718</td>\n",
       "      <td>1.479254e+09</td>\n",
       "      <td>2</td>\n",
       "      <td>0</td>\n",
       "    </tr>\n",
       "    <tr>\n",
       "      <th>2016-11-17</th>\n",
       "      <td>739.71</td>\n",
       "      <td>743.799088</td>\n",
       "      <td>743.328603</td>\n",
       "      <td>735.24</td>\n",
       "      <td>6681.431515</td>\n",
       "      <td>4.971520e+06</td>\n",
       "      <td>743.594873</td>\n",
       "      <td>1.479341e+09</td>\n",
       "      <td>3</td>\n",
       "      <td>1</td>\n",
       "    </tr>\n",
       "    <tr>\n",
       "      <th>2016-11-18</th>\n",
       "      <td>736.00</td>\n",
       "      <td>743.479232</td>\n",
       "      <td>743.182544</td>\n",
       "      <td>748.98</td>\n",
       "      <td>4271.041463</td>\n",
       "      <td>3.180459e+06</td>\n",
       "      <td>743.334634</td>\n",
       "      <td>1.479427e+09</td>\n",
       "      <td>4</td>\n",
       "      <td>1</td>\n",
       "    </tr>\n",
       "    <tr>\n",
       "      <th>2016-11-19</th>\n",
       "      <td>748.98</td>\n",
       "      <td>748.472504</td>\n",
       "      <td>748.156632</td>\n",
       "      <td>750.75</td>\n",
       "      <td>1965.436523</td>\n",
       "      <td>1.470297e+06</td>\n",
       "      <td>748.303430</td>\n",
       "      <td>1.479514e+09</td>\n",
       "      <td>5</td>\n",
       "      <td>0</td>\n",
       "    </tr>\n",
       "    <tr>\n",
       "      <th>...</th>\n",
       "      <td>...</td>\n",
       "      <td>...</td>\n",
       "      <td>...</td>\n",
       "      <td>...</td>\n",
       "      <td>...</td>\n",
       "      <td>...</td>\n",
       "      <td>...</td>\n",
       "      <td>...</td>\n",
       "      <td>...</td>\n",
       "      <td>...</td>\n",
       "    </tr>\n",
       "    <tr>\n",
       "      <th>2019-08-07</th>\n",
       "      <td>11471.58</td>\n",
       "      <td>11720.488056</td>\n",
       "      <td>11703.001771</td>\n",
       "      <td>11971.57</td>\n",
       "      <td>15480.455242</td>\n",
       "      <td>1.821676e+08</td>\n",
       "      <td>11711.543476</td>\n",
       "      <td>1.565136e+09</td>\n",
       "      <td>2</td>\n",
       "      <td>1</td>\n",
       "    </tr>\n",
       "    <tr>\n",
       "      <th>2019-08-08</th>\n",
       "      <td>11973.46</td>\n",
       "      <td>11808.993252</td>\n",
       "      <td>11794.461369</td>\n",
       "      <td>11983.43</td>\n",
       "      <td>10144.462109</td>\n",
       "      <td>1.196513e+08</td>\n",
       "      <td>11801.348742</td>\n",
       "      <td>1.565222e+09</td>\n",
       "      <td>3</td>\n",
       "      <td>0</td>\n",
       "    </tr>\n",
       "    <tr>\n",
       "      <th>2019-08-09</th>\n",
       "      <td>11985.60</td>\n",
       "      <td>11826.725247</td>\n",
       "      <td>11813.025645</td>\n",
       "      <td>11859.32</td>\n",
       "      <td>7336.914849</td>\n",
       "      <td>8.668686e+07</td>\n",
       "      <td>11819.342193</td>\n",
       "      <td>1.565309e+09</td>\n",
       "      <td>4</td>\n",
       "      <td>0</td>\n",
       "    </tr>\n",
       "    <tr>\n",
       "      <th>2019-08-10</th>\n",
       "      <td>11859.32</td>\n",
       "      <td>11584.982614</td>\n",
       "      <td>11573.482812</td>\n",
       "      <td>11273.20</td>\n",
       "      <td>7447.248341</td>\n",
       "      <td>8.588977e+07</td>\n",
       "      <td>11578.771029</td>\n",
       "      <td>1.565395e+09</td>\n",
       "      <td>5</td>\n",
       "      <td>1</td>\n",
       "    </tr>\n",
       "    <tr>\n",
       "      <th>2019-08-11</th>\n",
       "      <td>11273.03</td>\n",
       "      <td>11382.878294</td>\n",
       "      <td>11373.748798</td>\n",
       "      <td>11528.73</td>\n",
       "      <td>4361.390692</td>\n",
       "      <td>4.959636e+07</td>\n",
       "      <td>11378.232876</td>\n",
       "      <td>1.565482e+09</td>\n",
       "      <td>6</td>\n",
       "      <td>0</td>\n",
       "    </tr>\n",
       "  </tbody>\n",
       "</table>\n",
       "<p>1000 rows × 10 columns</p>\n",
       "</div>"
      ],
      "text/plain": [
       "                open            hi            lo     close       vol_btc  \\\n",
       "date                                                                       \n",
       "2016-11-15    704.98    711.395740    711.050820    711.06   5668.939949   \n",
       "2016-11-16    711.07    725.528455    725.092942    739.71  11585.045418   \n",
       "2016-11-17    739.71    743.799088    743.328603    735.24   6681.431515   \n",
       "2016-11-18    736.00    743.479232    743.182544    748.98   4271.041463   \n",
       "2016-11-19    748.98    748.472504    748.156632    750.75   1965.436523   \n",
       "...              ...           ...           ...       ...           ...   \n",
       "2019-08-07  11471.58  11720.488056  11703.001771  11971.57  15480.455242   \n",
       "2019-08-08  11973.46  11808.993252  11794.461369  11983.43  10144.462109   \n",
       "2019-08-09  11985.60  11826.725247  11813.025645  11859.32   7336.914849   \n",
       "2019-08-10  11859.32  11584.982614  11573.482812  11273.20   7447.248341   \n",
       "2019-08-11  11273.03  11382.878294  11373.748798  11528.73   4361.390692   \n",
       "\n",
       "                 vol_cur            wp            ts  wd  buy  \n",
       "date                                                           \n",
       "2016-11-15  4.030616e+06    711.236943  1.479168e+09   1    1  \n",
       "2016-11-16  8.443846e+06    725.333718  1.479254e+09   2    0  \n",
       "2016-11-17  4.971520e+06    743.594873  1.479341e+09   3    1  \n",
       "2016-11-18  3.180459e+06    743.334634  1.479427e+09   4    1  \n",
       "2016-11-19  1.470297e+06    748.303430  1.479514e+09   5    0  \n",
       "...                  ...           ...           ...  ..  ...  \n",
       "2019-08-07  1.821676e+08  11711.543476  1.565136e+09   2    1  \n",
       "2019-08-08  1.196513e+08  11801.348742  1.565222e+09   3    0  \n",
       "2019-08-09  8.668686e+07  11819.342193  1.565309e+09   4    0  \n",
       "2019-08-10  8.588977e+07  11578.771029  1.565395e+09   5    1  \n",
       "2019-08-11  4.959636e+07  11378.232876  1.565482e+09   6    0  \n",
       "\n",
       "[1000 rows x 10 columns]"
      ]
     },
     "execution_count": 65,
     "metadata": {},
     "output_type": "execute_result"
    }
   ],
   "source": [
    "mybit_df"
   ]
  },
  {
   "cell_type": "code",
   "execution_count": 66,
   "metadata": {},
   "outputs": [
    {
     "data": {
      "text/plain": [
       "open       float64\n",
       "hi         float64\n",
       "lo         float64\n",
       "close      float64\n",
       "vol_btc    float64\n",
       "vol_cur    float64\n",
       "wp         float64\n",
       "ts         float64\n",
       "wd           int32\n",
       "buy          int32\n",
       "dtype: object"
      ]
     },
     "execution_count": 66,
     "metadata": {},
     "output_type": "execute_result"
    }
   ],
   "source": [
    "mybit_df.dtypes"
   ]
  },
  {
   "cell_type": "code",
   "execution_count": 67,
   "metadata": {},
   "outputs": [],
   "source": [
    "# Retrieve features `X` and prediction `y`\n",
    "ignore = {'buy'}\n",
    "cols = [c for c in mybit_df.columns if c not in ignore]\n",
    "X = mybit_df[cols]\n",
    "y = mybit_df.buy\n",
    "X_train, X_test, y_train, y_test = model_selection.\\\n",
    "    train_test_split(X, y, test_size=.3, random_state=42)"
   ]
  },
  {
   "cell_type": "code",
   "execution_count": 68,
   "metadata": {},
   "outputs": [
    {
     "data": {
      "text/plain": [
       "(300, 9)"
      ]
     },
     "execution_count": 68,
     "metadata": {},
     "output_type": "execute_result"
    }
   ],
   "source": [
    "X_test.shape"
   ]
  },
  {
   "cell_type": "code",
   "execution_count": 69,
   "metadata": {},
   "outputs": [
    {
     "name": "stdout",
     "output_type": "stream",
     "text": [
      "Wall time: 20.6 ms\n"
     ]
    },
    {
     "name": "stderr",
     "output_type": "stream",
     "text": [
      "c:\\users\\johnlee\\appdata\\local\\programs\\python\\python36\\lib\\site-packages\\sklearn\\ensemble\\forest.py:248: FutureWarning: The default value of n_estimators will change from 10 in version 0.20 to 100 in 0.22.\n",
      "  \"10 in version 0.20 to 100 in 0.22.\", FutureWarning)\n"
     ]
    }
   ],
   "source": [
    "%%time\n",
    "rf1 = ensemble.RandomForestClassifier(random_state=42)\n",
    "rf1.fit(X_train, y_train)"
   ]
  },
  {
   "cell_type": "code",
   "execution_count": 70,
   "metadata": {},
   "outputs": [
    {
     "data": {
      "text/plain": [
       "0.5766666666666667"
      ]
     },
     "execution_count": 70,
     "metadata": {},
     "output_type": "execute_result"
    }
   ],
   "source": [
    "rf1.score(X_test, y_test)"
   ]
  },
  {
   "cell_type": "code",
   "execution_count": 71,
   "metadata": {},
   "outputs": [
    {
     "data": {
      "text/plain": [
       "0.9828571428571429"
      ]
     },
     "execution_count": 71,
     "metadata": {},
     "output_type": "execute_result"
    }
   ],
   "source": [
    "# Overfitting while score of training data is much higher than testing data\n",
    "rf1.score(X_train, y_train)"
   ]
  },
  {
   "cell_type": "markdown",
   "metadata": {},
   "source": [
    "## ROC Curve\n",
    "A <b><a href='https://en.wikipedia.org/wiki/Receiver_operating_characteristic'>receiver operating characteristic curve, or ROC curve</a></b>, is a graphical plot that illustrates the diagnostic ability of a binary classifier system as its discrimination threshold is varied.\n",
    "\n",
    "The ROC curve is created by plotting the [true positive rate](https://en.wikipedia.org/wiki/True_positive_rate) (TPR) against the [false positive rate](https://en.wikipedia.org/wiki/False_positive_rate) (FPR) at various threshold settings. The true-positive rate is also known as sensitivity, recall or probability of detection in machine learning. The false-positive rate is also known as probability of false alarm and can be calculated as (1 − specificity). It can also be thought of as a plot of the power as a function of the Type I Error of the decision rule (when the performance is calculated from just a sample of the population, it can be thought of as estimators of these quantities).\n",
    "\n",
    "* [【機器學習】分類效能度量指標 : ROC曲線、AUC值、正確率、召回率、敏感度、特異度](https://www.itread01.com/content/1547130433.html)"
   ]
  },
  {
   "cell_type": "code",
   "execution_count": 55,
   "metadata": {},
   "outputs": [
    {
     "name": "stderr",
     "output_type": "stream",
     "text": [
      "c:\\users\\johnlee\\appdata\\local\\programs\\python\\python36\\lib\\site-packages\\yellowbrick\\classifier\\base.py:232: YellowbrickWarning: could not determine class_counts_ from previously fitted classifier\n",
      "  YellowbrickWarning,\n"
     ]
    },
    {
     "data": {
      "image/png": "[encoded data removed]",
      "text/plain": [
       "<Figure size 720x720 with 1 Axes>"
      ]
     },
     "metadata": {
      "needs_background": "light"
     },
     "output_type": "display_data"
    },
    {
     "data": {
      "text/plain": [
       "<matplotlib.axes._subplots.AxesSubplot at 0x27401f14748>"
      ]
     },
     "execution_count": 55,
     "metadata": {},
     "output_type": "execute_result"
    }
   ],
   "source": [
    "# yellowbrick version\n",
    "fig, ax = plt.subplots(figsize=(10, 10))\n",
    "roc_viz = ROCAUC(rf1)\n",
    "roc_viz.score(X_test, y_test)\n",
    "\n",
    "roc_viz.poof()"
   ]
  },
  {
   "cell_type": "code",
   "execution_count": 56,
   "metadata": {},
   "outputs": [
    {
     "name": "stderr",
     "output_type": "stream",
     "text": [
      "c:\\users\\johnlee\\appdata\\local\\programs\\python\\python36\\lib\\site-packages\\yellowbrick\\classifier\\base.py:232: YellowbrickWarning: could not determine class_counts_ from previously fitted classifier\n",
      "  YellowbrickWarning,\n"
     ]
    },
    {
     "data": {
      "image/png": "[encoded data removed]",
      "text/plain": [
       "<Figure size 720x720 with 1 Axes>"
      ]
     },
     "metadata": {
      "needs_background": "light"
     },
     "output_type": "display_data"
    },
    {
     "data": {
      "text/plain": [
       "<matplotlib.axes._subplots.AxesSubplot at 0x2740263ac88>"
      ]
     },
     "execution_count": 56,
     "metadata": {},
     "output_type": "execute_result"
    }
   ],
   "source": [
    "%matplotlib inline\n",
    "fig, ax = plt.subplots(figsize=(10, 10))\n",
    "roc_viz = ROCAUC(rf1)\n",
    "roc_viz.score(X_train, y_train)\n",
    "roc_viz.poof()"
   ]
  }
 ],
 "metadata": {
  "kernelspec": {
   "display_name": "Python 3",
   "language": "python",
   "name": "python3"
  },
  "language_info": {
   "codemirror_mode": {
    "name": "ipython",
    "version": 3
   },
   "file_extension": ".py",
   "mimetype": "text/x-python",
   "name": "python",
   "nbconvert_exporter": "python",
   "pygments_lexer": "ipython3",
   "version": "3.6.7"
  }
 },
 "nbformat": 4,
 "nbformat_minor": 2
}
